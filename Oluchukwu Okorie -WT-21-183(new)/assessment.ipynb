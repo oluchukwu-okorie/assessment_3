{
 "cells": [
  {
   "cell_type": "markdown",
   "metadata": {},
   "source": [
    "# An app that helps a team to detect and translate complains from french to English "
   ]
  },
  {
   "cell_type": "markdown",
   "metadata": {},
   "source": [
    "First we need to import the modules needed for this app "
   ]
  },
  {
   "cell_type": "code",
   "execution_count": 116,
   "metadata": {},
   "outputs": [],
   "source": [
    "import warnings\n",
    "warnings.simplefilter('ignore', FutureWarning)\n",
    "import requests\n",
    "import json\n",
    "import datetime\n",
    "now=datetime.datetime.now()"
   ]
  },
  {
   "cell_type": "code",
   "execution_count": 117,
   "metadata": {},
   "outputs": [],
   "source": [
    "customers={}\n",
    "teams ={}\n",
    "users={'customers','Teams'}\n",
    "now =datetime.datetime.now\n",
    "    "
   ]
  },
  {
   "cell_type": "code",
   "execution_count": 68,
   "metadata": {},
   "outputs": [],
   "source": [
    "def register():\n",
    "    if customers:\n",
    "\n",
    "        name = input(\"Enter your name: \")\n",
    "        complaints =input(\"What's your complaint(s)?:\")\n",
    "        user_pin = input(\"Please pick a number from 1-1000: \")\n",
    "\n",
    "        for customer in customers.keys():\n",
    "            print('==========================')\n",
    "            print('Oops that number has already been taken\\\n",
    "            already exist, please pick another number!')\n",
    "        else:\n",
    "            now =datetime.datetime.now\n",
    "            print (\"You've registered your complaint(s) at:\")\n",
    "            print (now())\n",
    "            customers[user_pin] = {\n",
    "                        \"Name\": name, \"Complaint(s)\": complaints, \"Pin\": user_pin,\"time\": now}\n",
    "            print('Complaints recorded!')\n",
    "            print(customers.values())\n",
    "            print('========================')\n",
    "\n",
    "    \n",
    "    "
   ]
  },
  {
   "cell_type": "code",
   "execution_count": 118,
   "metadata": {},
   "outputs": [],
   "source": [
    "def register_customer():\n",
    "    if customers:\n",
    "        name = input(\"Enter your name: \")\n",
    "        complaints = input(\"What is your complaint(s): \")\n",
    "        user_pin = input(\"Pick your number from 1-1000: \")\n",
    "        time=print(now.strftime(\"You have entered this complaint at :%Y-%m-%d-%H:%M:%S\"))\n",
    "\n",
    "        if user_pin in customers.keys():\n",
    "            print('==========================')\n",
    "            print('Pin has been taken, please try again!')\n",
    "        else:\n",
    "            for record in customers.values():\n",
    "                if user_pin in customers.values():\n",
    "                    print('Pin has been taken, please try again!')\n",
    "                else:\n",
    "                    now=datetime.datetime.now()\n",
    "                    time=print(now.strftime(\"You have entered this at :%Y-%m-%d-%H:%M:%S\"))\n",
    "                    customers[user_pin] = {\n",
    "                        \"Name\": name, \"Pin\": user_pin,\"complaints\":complaints,\"time\":time}\n",
    "                    print('complaints registered,we will \\\n",
    "                    respond appropriately,Thank you!')\n",
    "                    print(customers.values())\n",
    "                    print('========================')\n",
    "                    break\n",
    "    else:\n",
    "        name = input(\"Enter your name: \")\n",
    "        user_pin = input(\"Pick your number from 1-1000: \")\n",
    "        now=datetime.datetime.now()\n",
    "        time=print(now.strftime(\"You have entered this at :%Y-%m-%d-%H:%M:%S\"))\n",
    "        customers[user_pin] = {\n",
    "            \"Name\": name,  \"Pin\": user_pin, \"Time\": time}\n",
    "        print(customers)\n",
    "        print('==========================')"
   ]
  },
  {
   "cell_type": "code",
   "execution_count": 121,
   "metadata": {},
   "outputs": [],
   "source": [
    "def register_team():\n",
    "    if teams:\n",
    "\n",
    "        name = input(\"Enter your name: \")\n",
    "        user_pin = input(\"Enter your 4 digit pin: \")\n",
    "\n",
    "        if user_pin in teams.keys()  or name in Teams.values():\n",
    "            print('==========================')\n",
    "            print('Data already exist, please try again!')\n",
    "        else:\n",
    "            for record in teams.values():\n",
    "                if user_pin in record.values() or name in record.values():\n",
    "                    print('Data already exist, please try again!')\n",
    "                else:\n",
    "                    teams[user_pin] = {\n",
    "                        \"Name\": name, \"Pin\": user_pin}\n",
    "                    print('Data recorded!')\n",
    "                    print(teams.values())\n",
    "                    print('========================')\n",
    "                    break\n",
    "    else:\n",
    "        name = input(\"Enter your name: \")\n",
    "        user_pin = input(\"Enter your 4 digit pin: \")\n",
    "        teams[user_pin] = {\n",
    "            \"Name\": name, \"Pin\": user_pin}\n",
    "        print(teams)\n",
    "        print('==========================')"
   ]
  },
  {
   "cell_type": "code",
   "execution_count": 123,
   "metadata": {},
   "outputs": [],
   "source": [
    "def complaint_retrieve(pin):\n",
    "    if pin in teams.keys():\n",
    "        teams[pin]\n",
    "        print(\"you are about to see all the complaints,pick a number\")\n",
    "        print(customers)\n",
    "    else:\n",
    "        print('Invalid Pin!')\n",
    "        print('========================')"
   ]
  },
  {
   "cell_type": "code",
   "execution_count": null,
   "metadata": {},
   "outputs": [],
   "source": [
    "def choose_complaint(customer_number):\n",
    "    if customer_number in customers.keys():\n",
    "        customers[customer_number]['complaints'] \n",
    "    else:\n",
    "        print('customer Pin!')\n",
    "        print('========================')"
   ]
  },
  {
   "cell_type": "code",
   "execution_count": 81,
   "metadata": {},
   "outputs": [
    {
     "ename": "NameError",
     "evalue": "name 'customer_number' is not defined",
     "output_type": "error",
     "traceback": [
      "\u001b[1;31m---------------------------------------------------------------------------\u001b[0m",
      "\u001b[1;31mNameError\u001b[0m                                 Traceback (most recent call last)",
      "\u001b[1;32m<ipython-input-81-391bd9e145bf>\u001b[0m in \u001b[0;36m<module>\u001b[1;34m\u001b[0m\n\u001b[0;32m      8\u001b[0m \u001b[0murl\u001b[0m \u001b[1;33m=\u001b[0m \u001b[1;34m\"https://google-translate1.p.rapidapi.com/language/translate/v2\"\u001b[0m\u001b[1;33m\u001b[0m\u001b[1;33m\u001b[0m\u001b[0m\n\u001b[0;32m      9\u001b[0m \u001b[1;33m\u001b[0m\u001b[0m\n\u001b[1;32m---> 10\u001b[1;33m \u001b[0mpayload\u001b[0m \u001b[1;33m=\u001b[0m \u001b[0mcustomers\u001b[0m\u001b[1;33m[\u001b[0m\u001b[0mcustomer_number\u001b[0m\u001b[1;33m]\u001b[0m\u001b[1;33m[\u001b[0m\u001b[1;34m'complaints'\u001b[0m\u001b[1;33m]\u001b[0m\u001b[1;33m\u001b[0m\u001b[1;33m\u001b[0m\u001b[0m\n\u001b[0m\u001b[0;32m     11\u001b[0m headers = {\n\u001b[0;32m     12\u001b[0m     \u001b[1;34m'content-type'\u001b[0m\u001b[1;33m:\u001b[0m \u001b[1;34m\"application/x-www-form-urlencoded\"\u001b[0m\u001b[1;33m,\u001b[0m\u001b[1;33m\u001b[0m\u001b[1;33m\u001b[0m\u001b[0m\n",
      "\u001b[1;31mNameError\u001b[0m: name 'customer_number' is not defined"
     ]
    }
   ],
   "source": [
    "def translate_complain(customer_number):\n",
    "    if customer_number in customers.keys():\n",
    "        customers[customer_number]['complaints'] \n",
    "    else:\n",
    "        print('customer Pin!')\n",
    "        print('========================')\n",
    "\n",
    "url = \"https://google-translate1.p.rapidapi.com/language/translate/v2\"\n",
    "\n",
    "payload =f\"{q={} customers[customer_number]['complaints'] \n",
    "headers = {\n",
    "    'content-type': \"application/x-www-form-urlencoded\",\n",
    "    'accept-encoding': \"application/gzip\",\n",
    "    'x-rapidapi-key': \"b8a1443e3cmshb37debdf3fbbfcap16dcf1jsnbb54ffe67d70\",\n",
    "    'x-rapidapi-host': \"google-translate1.p.rapidapi.com\"\n",
    "    }\n",
    "\n",
    "response = requests.request(\"POST\", url, data=payload, headers=headers)\n",
    "result = response.text\n",
    "\n",
    "print(response.text)"
   ]
  },
  {
   "cell_type": "code",
   "execution_count": null,
   "metadata": {},
   "outputs": [],
   "source": [
    "data = json.loads(result)\n",
    "print(data)\n"
   ]
  },
  {
   "cell_type": "code",
   "execution_count": null,
   "metadata": {},
   "outputs": [],
   "source": [
    "#detect the language\n",
    "url = \"https://google-translate1.p.rapidapi.com/language/translate/v2/detect\"\n",
    "\n",
    "payload = customers[customer_number]['complaints'] \n",
    "headers = {\n",
    "    'content-type': \"application/x-www-form-urlencoded\",\n",
    "    'accept-encoding': \"application/gzip\",\n",
    "    'x-rapidapi-key': \"b8a1443e3cmshb37debdf3fbbfcap16dcf1jsnbb54ffe67d70\",\n",
    "    'x-rapidapi-host': \"google-translate1.p.rapidapi.com\"\n",
    "    }\n",
    "\n",
    "response = requests.request(\"POST\", url, data=payload, headers=headers)\n",
    "\n",
    "print(response.text)"
   ]
  },
  {
   "cell_type": "code",
   "execution_count": 122,
   "metadata": {},
   "outputs": [
    {
     "name": "stdout",
     "output_type": "stream",
     "text": [
      "Welcome User!\n",
      "Enter 0 to register your complaints, 1 to register as a team,            2 to see all complain , 3 to choose a complain, 4 to translate a complain             5 to quit: 1\n",
      "Enter your name: okoye\n",
      "Enter your 4 digit pin: 6708\n",
      "{'6708': {'Name': 'okoye', 'Pin': '6708'}}\n",
      "==========================\n",
      "Enter 0 to register your complaints, 1 to register as a team,            2 to see all complain , 3 to choose a complain, 4 to translate a complain             5 to quit: 1\n",
      "Enter your name: oju\n",
      "Enter your 4 digit pin: 8909\n",
      "Data recorded!\n",
      "dict_values([{'Name': 'okoye', 'Pin': '6708'}, {'Name': 'oju', 'Pin': '8909'}])\n",
      "========================\n",
      "Enter 0 to register your complaints, 1 to register as a team,            2 to see all complain , 3 to choose a complain, 4 to translate a complain             5 to quit: 1\n",
      "Enter your name: opi\n",
      "Enter your 4 digit pin: 000\n",
      "Data recorded!\n",
      "dict_values([{'Name': 'okoye', 'Pin': '6708'}, {'Name': 'oju', 'Pin': '8909'}, {'Name': 'opi', 'Pin': '000'}])\n",
      "========================\n",
      "Enter 0 to register your complaints, 1 to register as a team,            2 to see all complain , 3 to choose a complain, 4 to translate a complain             5 to quit: 2\n"
     ]
    },
    {
     "ename": "TypeError",
     "evalue": "complaint_retrieve() missing 1 required positional argument: 'pin'",
     "output_type": "error",
     "traceback": [
      "\u001b[1;31m---------------------------------------------------------------------------\u001b[0m",
      "\u001b[1;31mTypeError\u001b[0m                                 Traceback (most recent call last)",
      "\u001b[1;32m<ipython-input-122-8bd2c79efc3d>\u001b[0m in \u001b[0;36m<module>\u001b[1;34m\u001b[0m\n\u001b[0;32m     29\u001b[0m \u001b[1;33m\u001b[0m\u001b[0m\n\u001b[0;32m     30\u001b[0m \u001b[1;33m\u001b[0m\u001b[0m\n\u001b[1;32m---> 31\u001b[1;33m \u001b[0mmain\u001b[0m\u001b[1;33m(\u001b[0m\u001b[1;33m)\u001b[0m\u001b[1;33m\u001b[0m\u001b[1;33m\u001b[0m\u001b[0m\n\u001b[0m",
      "\u001b[1;32m<ipython-input-122-8bd2c79efc3d>\u001b[0m in \u001b[0;36mmain\u001b[1;34m()\u001b[0m\n\u001b[0;32m     14\u001b[0m             \u001b[0mregister_team\u001b[0m\u001b[1;33m(\u001b[0m\u001b[1;33m)\u001b[0m\u001b[1;33m\u001b[0m\u001b[1;33m\u001b[0m\u001b[0m\n\u001b[0;32m     15\u001b[0m         \u001b[1;32melif\u001b[0m \u001b[0mchecker\u001b[0m \u001b[1;33m==\u001b[0m \u001b[1;36m2\u001b[0m\u001b[1;33m:\u001b[0m\u001b[1;33m\u001b[0m\u001b[1;33m\u001b[0m\u001b[0m\n\u001b[1;32m---> 16\u001b[1;33m             \u001b[0mcomplaint_retrieve\u001b[0m\u001b[1;33m(\u001b[0m\u001b[1;33m)\u001b[0m\u001b[1;33m\u001b[0m\u001b[1;33m\u001b[0m\u001b[0m\n\u001b[0m\u001b[0;32m     17\u001b[0m         \u001b[1;32melif\u001b[0m \u001b[0mchecker\u001b[0m \u001b[1;33m==\u001b[0m \u001b[1;36m3\u001b[0m\u001b[1;33m:\u001b[0m\u001b[1;33m\u001b[0m\u001b[1;33m\u001b[0m\u001b[0m\n\u001b[0;32m     18\u001b[0m             \u001b[0mchoose_complaint\u001b[0m\u001b[1;33m(\u001b[0m\u001b[1;33m)\u001b[0m\u001b[1;33m\u001b[0m\u001b[1;33m\u001b[0m\u001b[0m\n",
      "\u001b[1;31mTypeError\u001b[0m: complaint_retrieve() missing 1 required positional argument: 'pin'"
     ]
    }
   ],
   "source": [
    "def main():\n",
    "    runtime = 1\n",
    "    print('Welcome User!')\n",
    "    while runtime:\n",
    "        checker = int(input(\n",
    "            'Enter 0 to register your complaints, 1 to register as a team,\\\n",
    "            2 to see all complain , 3 to choose a complain, 4 to translate a complain\\\n",
    "             5 to quit: '))\n",
    "\n",
    "        \n",
    "        if checker == 0:\n",
    "            register_customer()\n",
    "        elif checker == 1:\n",
    "            register_team()\n",
    "        elif checker == 2:\n",
    "            pin=input('Welcome Team,Please enter your pin':)\n",
    "            complaint_retrieve(pin)\n",
    "        elif checker == 3:\n",
    "            customer=input('Welcome Team,Please enter the customer number you want to see complain':)\n",
    "            choose_complaint(pin)\n",
    "        elif checker == 4:\n",
    "            customer_number = input('Please enter the customer number: ')\n",
    "            translate_complain(customer_number)\n",
    "        elif checker == 5:\n",
    "            break\n",
    "        else:\n",
    "            print('Invalid value, try again')\n",
    "            main()\n",
    "\n",
    "\n",
    "main()"
   ]
  },
  {
   "cell_type": "code",
   "execution_count": null,
   "metadata": {},
   "outputs": [],
   "source": [
    "def complain_bank(hexagon,filename ='Hexiagonprodts.json'):#combank-complain_bank,alienware-Hexagonprodts,\n",
    "    with open(filename,'r+') as f:#alien-hexagon\n",
    "        file = json.loads(f)\n",
    "        file.update(hexiagon)\n",
    "        f.seek(0)\n",
    "        json.dump(file,f,indent=2)\n",
    "        complain_bank"
   ]
  }
 ],
 "metadata": {
  "kernelspec": {
   "display_name": "Python 3",
   "language": "python",
   "name": "python3"
  },
  "language_info": {
   "codemirror_mode": {
    "name": "ipython",
    "version": 3
   },
   "file_extension": ".py",
   "mimetype": "text/x-python",
   "name": "python",
   "nbconvert_exporter": "python",
   "pygments_lexer": "ipython3",
   "version": "3.8.5"
  }
 },
 "nbformat": 4,
 "nbformat_minor": 4
}
